{
 "cells": [
  {
   "cell_type": "code",
   "execution_count": 1,
   "metadata": {},
   "outputs": [
    {
     "name": "stdout",
     "output_type": "stream",
     "text": [
      "1.3.0\n"
     ]
    }
   ],
   "source": [
    "# import libraries\n",
    "import numpy as np\n",
    "import pandas as pd\n",
    "import tensorflow as tf\n",
    "\n",
    "print ( tf.__version__)"
   ]
  },
  {
   "cell_type": "code",
   "execution_count": 13,
   "metadata": {},
   "outputs": [],
   "source": [
    "df=pd.read_csv('conversion_data.csv')"
   ]
  },
  {
   "cell_type": "code",
   "execution_count": 14,
   "metadata": {},
   "outputs": [
    {
     "data": {
      "text/html": [
       "<div>\n",
       "<table border=\"1\" class=\"dataframe\">\n",
       "  <thead>\n",
       "    <tr style=\"text-align: right;\">\n",
       "      <th></th>\n",
       "      <th>country</th>\n",
       "      <th>age</th>\n",
       "      <th>new_user</th>\n",
       "      <th>source</th>\n",
       "      <th>total_pages_visited</th>\n",
       "      <th>converted</th>\n",
       "    </tr>\n",
       "  </thead>\n",
       "  <tbody>\n",
       "    <tr>\n",
       "      <th>0</th>\n",
       "      <td>UK</td>\n",
       "      <td>25</td>\n",
       "      <td>1</td>\n",
       "      <td>Ads</td>\n",
       "      <td>1</td>\n",
       "      <td>0</td>\n",
       "    </tr>\n",
       "    <tr>\n",
       "      <th>1</th>\n",
       "      <td>US</td>\n",
       "      <td>23</td>\n",
       "      <td>1</td>\n",
       "      <td>Seo</td>\n",
       "      <td>5</td>\n",
       "      <td>0</td>\n",
       "    </tr>\n",
       "    <tr>\n",
       "      <th>2</th>\n",
       "      <td>US</td>\n",
       "      <td>28</td>\n",
       "      <td>1</td>\n",
       "      <td>Seo</td>\n",
       "      <td>4</td>\n",
       "      <td>0</td>\n",
       "    </tr>\n",
       "  </tbody>\n",
       "</table>\n",
       "</div>"
      ],
      "text/plain": [
       "  country  age  new_user source  total_pages_visited  converted\n",
       "0      UK   25         1    Ads                    1          0\n",
       "1      US   23         1    Seo                    5          0\n",
       "2      US   28         1    Seo                    4          0"
      ]
     },
     "execution_count": 14,
     "metadata": {},
     "output_type": "execute_result"
    }
   ],
   "source": [
    "df.head(3)"
   ]
  },
  {
   "cell_type": "code",
   "execution_count": 15,
   "metadata": {},
   "outputs": [
    {
     "data": {
      "text/plain": [
       "US         178092\n",
       "China       76602\n",
       "UK          48450\n",
       "Germany     13056\n",
       "Name: country, dtype: int64"
      ]
     },
     "execution_count": 15,
     "metadata": {},
     "output_type": "execute_result"
    }
   ],
   "source": [
    "df.country.value_counts()"
   ]
  },
  {
   "cell_type": "code",
   "execution_count": 16,
   "metadata": {},
   "outputs": [
    {
     "data": {
      "text/plain": [
       "Seo       155040\n",
       "Ads        88740\n",
       "Direct     72420\n",
       "Name: source, dtype: int64"
      ]
     },
     "execution_count": 16,
     "metadata": {},
     "output_type": "execute_result"
    }
   ],
   "source": [
    "df.source.value_counts()"
   ]
  },
  {
   "cell_type": "code",
   "execution_count": 17,
   "metadata": {},
   "outputs": [],
   "source": [
    "# sampling 70% for train data\n",
    "train_set = df.sample(frac=0.7, replace=False, random_state=777)\n",
    "# the other 30% is reserverd for testing\n",
    "test_set = df.loc[ set(df.index) - set(train_set.index)]"
   ]
  },
  {
   "cell_type": "code",
   "execution_count": 18,
   "metadata": {},
   "outputs": [
    {
     "data": {
      "text/plain": [
       "(221340, 6)"
      ]
     },
     "execution_count": 18,
     "metadata": {},
     "output_type": "execute_result"
    }
   ],
   "source": [
    "train_set.shape"
   ]
  },
  {
   "cell_type": "code",
   "execution_count": 19,
   "metadata": {},
   "outputs": [
    {
     "data": {
      "text/plain": [
       "(94860, 6)"
      ]
     },
     "execution_count": 19,
     "metadata": {},
     "output_type": "execute_result"
    }
   ],
   "source": [
    "test_set.shape"
   ]
  },
  {
   "cell_type": "code",
   "execution_count": 20,
   "metadata": {},
   "outputs": [],
   "source": [
    "# defining numeric columns\n",
    "age_feature = tf.feature_column.numeric_column('age')\n",
    "new_user_feature = tf.feature_column.numeric_column('new_user')\n",
    "total_pages_visited_feature = tf.feature_column.numeric_column('total_pages_visited')\n"
   ]
  },
  {
   "cell_type": "code",
   "execution_count": 21,
   "metadata": {},
   "outputs": [],
   "source": [
    "#defining a categorical column with predefined values\n",
    "country_feature = tf.feature_column.categorical_column_with_vocabulary_list(\n",
    "    'country',['US','UK','China','Germany']\n",
    ")\n",
    "\n",
    "source_feature = tf.feature_column.categorical_column_with_vocabulary_list(\n",
    "    'source',['Ads','Seo','Direct']\n",
    ")\n"
   ]
  },
  {
   "cell_type": "code",
   "execution_count": 22,
   "metadata": {},
   "outputs": [],
   "source": [
    "feature_columns = [ age_feature,new_user_feature, total_pages_visited_feature, country_feature, \n",
    "                   source_feature]"
   ]
  },
  {
   "cell_type": "code",
   "execution_count": 23,
   "metadata": {},
   "outputs": [
    {
     "name": "stdout",
     "output_type": "stream",
     "text": [
      "INFO:tensorflow:Using default config.\n",
      "WARNING:tensorflow:Using temporary folder as model directory: /tmp/tmpgrz9upmr\n",
      "INFO:tensorflow:Using config: {'_model_dir': '/tmp/tmpgrz9upmr', '_tf_random_seed': 1, '_save_summary_steps': 100, '_save_checkpoints_secs': 600, '_save_checkpoints_steps': None, '_session_config': None, '_keep_checkpoint_max': 5, '_keep_checkpoint_every_n_hours': 10000, '_log_step_count_steps': 100}\n"
     ]
    }
   ],
   "source": [
    "estimator = tf.estimator.LinearClassifier(feature_columns=feature_columns)"
   ]
  },
  {
   "cell_type": "code",
   "execution_count": 25,
   "metadata": {},
   "outputs": [],
   "source": [
    "# train input function\n",
    "train_input_fn = tf.estimator.inputs.pandas_input_fn(\n",
    "      x=train_set.drop('converted', axis=1),\n",
    "      y=train_set.converted,\n",
    "      num_epochs=None, #For training it can use how many epochs is necessary\n",
    "      shuffle=True,\n",
    "      target_column='target',\n",
    ")\n",
    "\n",
    "test_input_fn = tf.estimator.inputs.pandas_input_fn(\n",
    "      x=test_set.drop('converted', axis=1),\n",
    "      y=test_set.converted,\n",
    "      num_epochs=1, #We just want to use one epoch since this is only to score.\n",
    "      shuffle=False  #It isn't necessary to shuffle the cross validation \n",
    ")"
   ]
  },
  {
   "cell_type": "code",
   "execution_count": 26,
   "metadata": {},
   "outputs": [
    {
     "name": "stdout",
     "output_type": "stream",
     "text": [
      "INFO:tensorflow:Create CheckpointSaverHook.\n",
      "INFO:tensorflow:Saving checkpoints for 1 into /tmp/tmpgrz9upmr/model.ckpt.\n",
      "INFO:tensorflow:loss = 88.7229, step = 1\n",
      "INFO:tensorflow:global_step/sec: 346.507\n",
      "INFO:tensorflow:loss = 3.24922, step = 101 (0.292 sec)\n",
      "INFO:tensorflow:global_step/sec: 362.691\n",
      "INFO:tensorflow:loss = 7.51745, step = 201 (0.273 sec)\n",
      "INFO:tensorflow:global_step/sec: 406.578\n",
      "INFO:tensorflow:loss = 11.9459, step = 301 (0.248 sec)\n",
      "INFO:tensorflow:Saving checkpoints for 400 into /tmp/tmpgrz9upmr/model.ckpt.\n",
      "INFO:tensorflow:Loss for final step: 5.72372.\n"
     ]
    },
    {
     "data": {
      "text/plain": [
       "<tensorflow.python.estimator.canned.linear.LinearClassifier at 0x7f5b18ee2080>"
      ]
     },
     "execution_count": 26,
     "metadata": {},
     "output_type": "execute_result"
    }
   ],
   "source": [
    "estimator.train(input_fn=train_input_fn, steps=400)"
   ]
  },
  {
   "cell_type": "code",
   "execution_count": 27,
   "metadata": {},
   "outputs": [
    {
     "name": "stdout",
     "output_type": "stream",
     "text": [
      "WARNING:tensorflow:Casting <dtype: 'float32'> labels to bool.\n",
      "WARNING:tensorflow:Casting <dtype: 'float32'> labels to bool.\n",
      "INFO:tensorflow:Starting evaluation at 2018-05-02-06:50:48\n",
      "INFO:tensorflow:Restoring parameters from /tmp/tmpgrz9upmr/model.ckpt-400\n",
      "INFO:tensorflow:Finished evaluation at 2018-05-02-06:50:51\n",
      "INFO:tensorflow:Saving dict for global step 400: accuracy = 0.983892, accuracy_baseline = 0.967816, auc = 0.974004, auc_precision_recall = 0.795024, average_loss = 0.0489862, global_step = 400, label/mean = 0.0321843, loss = 6.26258, prediction/mean = 0.0340002\n",
      "\n",
      "Test Accuracy: 0.983892\n",
      "\n"
     ]
    }
   ],
   "source": [
    "scores = estimator.evaluate(input_fn=test_input_fn)\n",
    "print(\"\\nTest Accuracy: {0:f}\\n\".format(scores['accuracy']))"
   ]
  },
  {
   "cell_type": "code",
   "execution_count": null,
   "metadata": {},
   "outputs": [],
   "source": []
  }
 ],
 "metadata": {
  "kernelspec": {
   "display_name": "Python 3",
   "language": "python",
   "name": "python3"
  },
  "language_info": {
   "codemirror_mode": {
    "name": "ipython",
    "version": 3
   },
   "file_extension": ".py",
   "mimetype": "text/x-python",
   "name": "python",
   "nbconvert_exporter": "python",
   "pygments_lexer": "ipython3",
   "version": "3.6.3"
  }
 },
 "nbformat": 4,
 "nbformat_minor": 2
}
