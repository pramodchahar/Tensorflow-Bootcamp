{
 "cells": [
  {
   "cell_type": "code",
   "execution_count": 27,
   "metadata": {},
   "outputs": [
    {
     "name": "stdout",
     "output_type": "stream",
     "text": [
      "1.3.0\n"
     ]
    }
   ],
   "source": [
    "# import libraries\n",
    "import numpy as np\n",
    "import pandas as pd\n",
    "import tensorflow as tf\n",
    "\n",
    "print ( tf.__version__)"
   ]
  },
  {
   "cell_type": "code",
   "execution_count": 28,
   "metadata": {},
   "outputs": [],
   "source": [
    "df=pd.read_csv('conversion_data.csv')"
   ]
  },
  {
   "cell_type": "code",
   "execution_count": 29,
   "metadata": {},
   "outputs": [
    {
     "data": {
      "text/html": [
       "<div>\n",
       "<table border=\"1\" class=\"dataframe\">\n",
       "  <thead>\n",
       "    <tr style=\"text-align: right;\">\n",
       "      <th></th>\n",
       "      <th>country</th>\n",
       "      <th>age</th>\n",
       "      <th>new_user</th>\n",
       "      <th>source</th>\n",
       "      <th>total_pages_visited</th>\n",
       "      <th>converted</th>\n",
       "    </tr>\n",
       "  </thead>\n",
       "  <tbody>\n",
       "    <tr>\n",
       "      <th>0</th>\n",
       "      <td>UK</td>\n",
       "      <td>25</td>\n",
       "      <td>1</td>\n",
       "      <td>Ads</td>\n",
       "      <td>1</td>\n",
       "      <td>0</td>\n",
       "    </tr>\n",
       "    <tr>\n",
       "      <th>1</th>\n",
       "      <td>US</td>\n",
       "      <td>23</td>\n",
       "      <td>1</td>\n",
       "      <td>Seo</td>\n",
       "      <td>5</td>\n",
       "      <td>0</td>\n",
       "    </tr>\n",
       "    <tr>\n",
       "      <th>2</th>\n",
       "      <td>US</td>\n",
       "      <td>28</td>\n",
       "      <td>1</td>\n",
       "      <td>Seo</td>\n",
       "      <td>4</td>\n",
       "      <td>0</td>\n",
       "    </tr>\n",
       "  </tbody>\n",
       "</table>\n",
       "</div>"
      ],
      "text/plain": [
       "  country  age  new_user source  total_pages_visited  converted\n",
       "0      UK   25         1    Ads                    1          0\n",
       "1      US   23         1    Seo                    5          0\n",
       "2      US   28         1    Seo                    4          0"
      ]
     },
     "execution_count": 29,
     "metadata": {},
     "output_type": "execute_result"
    }
   ],
   "source": [
    "df.head(3)"
   ]
  },
  {
   "cell_type": "code",
   "execution_count": 30,
   "metadata": {},
   "outputs": [],
   "source": [
    "#dummy data for categorical variables\n",
    "df = pd.get_dummies(df, columns=['country','source'])"
   ]
  },
  {
   "cell_type": "code",
   "execution_count": 31,
   "metadata": {},
   "outputs": [],
   "source": [
    "input_columns = [column for column in df.columns if column != 'converted']\n",
    "output_column = 'converted'"
   ]
  },
  {
   "cell_type": "code",
   "execution_count": 45,
   "metadata": {},
   "outputs": [],
   "source": [
    "#input data\n",
    "X = df.loc[:,input_columns].values.astype(np.float32)\n",
    "#output data \n",
    "y = df.loc[:,output_column].astype(np.int32)"
   ]
  },
  {
   "cell_type": "code",
   "execution_count": 46,
   "metadata": {},
   "outputs": [
    {
     "data": {
      "text/plain": [
       "(316200, 10)"
      ]
     },
     "execution_count": 46,
     "metadata": {},
     "output_type": "execute_result"
    }
   ],
   "source": [
    "X.shape"
   ]
  },
  {
   "cell_type": "code",
   "execution_count": 47,
   "metadata": {},
   "outputs": [
    {
     "data": {
      "text/plain": [
       "(316200,)"
      ]
     },
     "execution_count": 47,
     "metadata": {},
     "output_type": "execute_result"
    }
   ],
   "source": [
    "y.shape"
   ]
  },
  {
   "cell_type": "code",
   "execution_count": 48,
   "metadata": {},
   "outputs": [],
   "source": [
    "#import model specific libraries\n",
    "from sklearn.model_selection import train_test_split\n",
    "#Split the data into training and test data (70/30 ratio)\n",
    "X_train,X_test,y_train,y_test=train_test_split(X,y,test_size=0.3, random_state=100, stratify=y)"
   ]
  },
  {
   "cell_type": "code",
   "execution_count": 49,
   "metadata": {},
   "outputs": [
    {
     "data": {
      "text/plain": [
       "array([[ 30.,   1.,   8.,   1.,   0.,   0.,   0.,   0.,   1.,   0.],\n",
       "       [ 22.,   0.,   6.,   0.,   0.,   0.,   1.,   0.,   0.,   1.],\n",
       "       [ 23.,   0.,   5.,   0.,   1.,   0.,   0.,   0.,   0.,   1.]], dtype=float32)"
      ]
     },
     "execution_count": 49,
     "metadata": {},
     "output_type": "execute_result"
    }
   ],
   "source": [
    "X_train[:3]"
   ]
  },
  {
   "cell_type": "code",
   "execution_count": 50,
   "metadata": {},
   "outputs": [
    {
     "data": {
      "text/plain": [
       "31358     0\n",
       "308472    0\n",
       "111906    0\n",
       "Name: converted, dtype: int32"
      ]
     },
     "execution_count": 50,
     "metadata": {},
     "output_type": "execute_result"
    }
   ],
   "source": [
    "y_train[:3]"
   ]
  },
  {
   "cell_type": "code",
   "execution_count": 51,
   "metadata": {},
   "outputs": [
    {
     "name": "stdout",
     "output_type": "stream",
     "text": [
      "INFO:tensorflow:Using default config.\n",
      "WARNING:tensorflow:Using temporary folder as model directory: /tmp/tmprl1qlw8y\n",
      "INFO:tensorflow:Using config: {'_task_type': None, '_task_id': 0, '_cluster_spec': <tensorflow.python.training.server_lib.ClusterSpec object at 0x7f4d32528198>, '_master': '', '_num_ps_replicas': 0, '_num_worker_replicas': 0, '_environment': 'local', '_is_chief': True, '_evaluation_master': '', '_tf_config': gpu_options {\n",
      "  per_process_gpu_memory_fraction: 1.0\n",
      "}\n",
      ", '_tf_random_seed': None, '_save_summary_steps': 100, '_save_checkpoints_secs': 600, '_log_step_count_steps': 100, '_session_config': None, '_save_checkpoints_steps': None, '_keep_checkpoint_max': 5, '_keep_checkpoint_every_n_hours': 10000, '_model_dir': '/tmp/tmprl1qlw8y'}\n",
      "WARNING:tensorflow:From <ipython-input-51-710f7e712df6>:7: calling BaseEstimator.fit (from tensorflow.contrib.learn.python.learn.estimators.estimator) with x is deprecated and will be removed after 2016-12-01.\n",
      "Instructions for updating:\n",
      "Estimator is decoupled from Scikit Learn interface by moving into\n",
      "separate class SKCompat. Arguments x, y and batch_size are only\n",
      "available in the SKCompat class, Estimator will only accept input_fn.\n",
      "Example conversion:\n",
      "  est = Estimator(...) -> est = SKCompat(Estimator(...))\n",
      "WARNING:tensorflow:From <ipython-input-51-710f7e712df6>:7: calling BaseEstimator.fit (from tensorflow.contrib.learn.python.learn.estimators.estimator) with y is deprecated and will be removed after 2016-12-01.\n",
      "Instructions for updating:\n",
      "Estimator is decoupled from Scikit Learn interface by moving into\n",
      "separate class SKCompat. Arguments x, y and batch_size are only\n",
      "available in the SKCompat class, Estimator will only accept input_fn.\n",
      "Example conversion:\n",
      "  est = Estimator(...) -> est = SKCompat(Estimator(...))\n",
      "INFO:tensorflow:Constructing forest with params = \n",
      "INFO:tensorflow:{'num_trees': 50, 'max_nodes': 100, 'bagging_fraction': 1.0, 'feature_bagging_fraction': 1.0, 'num_splits_to_consider': 10, 'max_fertile_nodes': 50, 'split_after_samples': 250, 'min_split_samples': 5, 'valid_leaf_threshold': 1, 'dominate_method': 'bootstrap', 'dominate_fraction': 0.99, 'num_classes': 2, 'num_features': 10, 'regression': False, 'bagged_num_features': 10, 'bagged_features': None, 'num_outputs': 1, 'num_output_columns': 3, 'split_initializations_per_input': 1, 'base_random_seed': 0}\n"
     ]
    },
    {
     "name": "stderr",
     "output_type": "stream",
     "text": [
      "/opt/conda/lib/python3.6/site-packages/tensorflow/python/util/deprecation.py:260: FutureWarning: comparison to `None` will result in an elementwise object comparison in the future.\n",
      "  equality = a == b\n"
     ]
    },
    {
     "name": "stdout",
     "output_type": "stream",
     "text": [
      "INFO:tensorflow:dense_features_size: 10 dense: [{name: features original_type: 0 size: 10}] sparse: []\n",
      "INFO:tensorflow:dense_features_size: 10 dense: [{name: features original_type: 0 size: 10}] sparse: []\n",
      "INFO:tensorflow:training graph for tree: 0\n",
      "INFO:tensorflow:training graph for tree: 1\n",
      "INFO:tensorflow:training graph for tree: 2\n",
      "INFO:tensorflow:training graph for tree: 3\n",
      "INFO:tensorflow:training graph for tree: 4\n",
      "INFO:tensorflow:training graph for tree: 5\n",
      "INFO:tensorflow:training graph for tree: 6\n",
      "INFO:tensorflow:training graph for tree: 7\n",
      "INFO:tensorflow:training graph for tree: 8\n",
      "INFO:tensorflow:training graph for tree: 9\n",
      "INFO:tensorflow:training graph for tree: 10\n",
      "INFO:tensorflow:training graph for tree: 11\n",
      "INFO:tensorflow:training graph for tree: 12\n",
      "INFO:tensorflow:training graph for tree: 13\n",
      "INFO:tensorflow:training graph for tree: 14\n",
      "INFO:tensorflow:training graph for tree: 15\n",
      "INFO:tensorflow:training graph for tree: 16\n",
      "INFO:tensorflow:training graph for tree: 17\n",
      "INFO:tensorflow:training graph for tree: 18\n",
      "INFO:tensorflow:training graph for tree: 19\n",
      "INFO:tensorflow:training graph for tree: 20\n",
      "INFO:tensorflow:training graph for tree: 21\n",
      "INFO:tensorflow:training graph for tree: 22\n",
      "INFO:tensorflow:training graph for tree: 23\n",
      "INFO:tensorflow:training graph for tree: 24\n",
      "INFO:tensorflow:training graph for tree: 25\n",
      "INFO:tensorflow:training graph for tree: 26\n",
      "INFO:tensorflow:training graph for tree: 27\n",
      "INFO:tensorflow:training graph for tree: 28\n",
      "INFO:tensorflow:training graph for tree: 29\n",
      "INFO:tensorflow:training graph for tree: 30\n",
      "INFO:tensorflow:training graph for tree: 31\n",
      "INFO:tensorflow:training graph for tree: 32\n",
      "INFO:tensorflow:training graph for tree: 33\n",
      "INFO:tensorflow:training graph for tree: 34\n",
      "INFO:tensorflow:training graph for tree: 35\n",
      "INFO:tensorflow:training graph for tree: 36\n",
      "INFO:tensorflow:training graph for tree: 37\n",
      "INFO:tensorflow:training graph for tree: 38\n",
      "INFO:tensorflow:training graph for tree: 39\n",
      "INFO:tensorflow:training graph for tree: 40\n",
      "INFO:tensorflow:training graph for tree: 41\n",
      "INFO:tensorflow:training graph for tree: 42\n",
      "INFO:tensorflow:training graph for tree: 43\n",
      "INFO:tensorflow:training graph for tree: 44\n",
      "INFO:tensorflow:training graph for tree: 45\n",
      "INFO:tensorflow:training graph for tree: 46\n",
      "INFO:tensorflow:training graph for tree: 47\n",
      "INFO:tensorflow:training graph for tree: 48\n",
      "INFO:tensorflow:training graph for tree: 49\n",
      "WARNING:tensorflow:From /opt/conda/lib/python3.6/site-packages/tensorflow/contrib/learn/python/learn/estimators/head.py:642: scalar_summary (from tensorflow.python.ops.logging_ops) is deprecated and will be removed after 2016-11-30.\n",
      "Instructions for updating:\n",
      "Please switch to tf.summary.scalar. Note that tf.summary.scalar uses the node name instead of the tag. This means that TensorFlow will automatically de-duplicate summary names based on the scope they are created in. Also, passing a tensor or list of tags to a scalar summary op is no longer supported.\n",
      "WARNING:tensorflow:Casting <dtype: 'int32'> labels to bool.\n",
      "WARNING:tensorflow:Casting <dtype: 'int32'> labels to bool.\n",
      "INFO:tensorflow:Create CheckpointSaverHook.\n",
      "INFO:tensorflow:Saving checkpoints for 1 into /tmp/tmprl1qlw8y/model.ckpt.\n",
      "INFO:tensorflow:loss = 0.42796, step = 1\n",
      "INFO:tensorflow:TensorForestLossHook resetting last_step.\n",
      "INFO:tensorflow:global_step/sec: 0.190463\n",
      "INFO:tensorflow:loss = 0.0479341, step = 101 (525.037 sec)\n",
      "INFO:tensorflow:Saving checkpoints for 116 into /tmp/tmprl1qlw8y/model.ckpt.\n",
      "INFO:tensorflow:TensorForestLossHook requesting stop.\n",
      "INFO:tensorflow:Saving checkpoints for 118 into /tmp/tmprl1qlw8y/model.ckpt.\n",
      "INFO:tensorflow:Loss for final step: 0.0479339.\n",
      "WARNING:tensorflow:From <ipython-input-51-710f7e712df6>:9: calling BaseEstimator.predict (from tensorflow.contrib.learn.python.learn.estimators.estimator) with x is deprecated and will be removed after 2016-12-01.\n",
      "Instructions for updating:\n",
      "Estimator is decoupled from Scikit Learn interface by moving into\n",
      "separate class SKCompat. Arguments x, y and batch_size are only\n",
      "available in the SKCompat class, Estimator will only accept input_fn.\n",
      "Example conversion:\n",
      "  est = Estimator(...) -> est = SKCompat(Estimator(...))\n",
      "INFO:tensorflow:Constructing forest with params = \n",
      "INFO:tensorflow:{'num_trees': 50, 'max_nodes': 100, 'bagging_fraction': 1.0, 'feature_bagging_fraction': 1.0, 'num_splits_to_consider': 10, 'max_fertile_nodes': 50, 'split_after_samples': 250, 'min_split_samples': 5, 'valid_leaf_threshold': 1, 'dominate_method': 'bootstrap', 'dominate_fraction': 0.99, 'num_classes': 2, 'num_features': 10, 'regression': False, 'bagged_num_features': 10, 'bagged_features': None, 'num_outputs': 1, 'num_output_columns': 3, 'split_initializations_per_input': 1, 'base_random_seed': 0}\n",
      "INFO:tensorflow:dense_features_size: 10 dense: [{name: features original_type: 0 size: 10}] sparse: []\n",
      "INFO:tensorflow:Restoring parameters from /tmp/tmprl1qlw8y/model.ckpt-118\n"
     ]
    }
   ],
   "source": [
    "params = tf.contrib.tensor_forest.python.tensor_forest.ForestHParams(\n",
    "  num_classes=2, num_features=10, regression=False,\n",
    "  num_trees=50, max_nodes=100)\n",
    "\n",
    "classifier =tf.contrib.tensor_forest.client.random_forest.TensorForestEstimator(params)\n",
    "\n",
    "classifier.fit(x=X_train, y=y_train)\n",
    "\n",
    "y_out = classifier.predict(x=X_test)"
   ]
  },
  {
   "cell_type": "code",
   "execution_count": 52,
   "metadata": {},
   "outputs": [
    {
     "name": "stdout",
     "output_type": "stream",
     "text": [
      "WARNING:tensorflow:From <ipython-input-52-a48eb5393609>:1: calling BaseEstimator.evaluate (from tensorflow.contrib.learn.python.learn.estimators.estimator) with x is deprecated and will be removed after 2016-12-01.\n",
      "Instructions for updating:\n",
      "Estimator is decoupled from Scikit Learn interface by moving into\n",
      "separate class SKCompat. Arguments x, y and batch_size are only\n",
      "available in the SKCompat class, Estimator will only accept input_fn.\n",
      "Example conversion:\n",
      "  est = Estimator(...) -> est = SKCompat(Estimator(...))\n",
      "WARNING:tensorflow:From <ipython-input-52-a48eb5393609>:1: calling BaseEstimator.evaluate (from tensorflow.contrib.learn.python.learn.estimators.estimator) with y is deprecated and will be removed after 2016-12-01.\n",
      "Instructions for updating:\n",
      "Estimator is decoupled from Scikit Learn interface by moving into\n",
      "separate class SKCompat. Arguments x, y and batch_size are only\n",
      "available in the SKCompat class, Estimator will only accept input_fn.\n",
      "Example conversion:\n",
      "  est = Estimator(...) -> est = SKCompat(Estimator(...))\n",
      "INFO:tensorflow:Constructing forest with params = \n",
      "INFO:tensorflow:{'num_trees': 50, 'max_nodes': 100, 'bagging_fraction': 1.0, 'feature_bagging_fraction': 1.0, 'num_splits_to_consider': 10, 'max_fertile_nodes': 50, 'split_after_samples': 250, 'min_split_samples': 5, 'valid_leaf_threshold': 1, 'dominate_method': 'bootstrap', 'dominate_fraction': 0.99, 'num_classes': 2, 'num_features': 10, 'regression': False, 'bagged_num_features': 10, 'bagged_features': None, 'num_outputs': 1, 'num_output_columns': 3, 'split_initializations_per_input': 1, 'base_random_seed': 0}\n"
     ]
    },
    {
     "name": "stderr",
     "output_type": "stream",
     "text": [
      "/opt/conda/lib/python3.6/site-packages/tensorflow/python/util/deprecation.py:260: FutureWarning: comparison to `None` will result in an elementwise object comparison in the future.\n",
      "  equality = a == b\n"
     ]
    },
    {
     "name": "stdout",
     "output_type": "stream",
     "text": [
      "INFO:tensorflow:dense_features_size: 10 dense: [{name: features original_type: 0 size: 10}] sparse: []\n",
      "WARNING:tensorflow:From /opt/conda/lib/python3.6/site-packages/tensorflow/contrib/learn/python/learn/estimators/head.py:642: scalar_summary (from tensorflow.python.ops.logging_ops) is deprecated and will be removed after 2016-11-30.\n",
      "Instructions for updating:\n",
      "Please switch to tf.summary.scalar. Note that tf.summary.scalar uses the node name instead of the tag. This means that TensorFlow will automatically de-duplicate summary names based on the scope they are created in. Also, passing a tensor or list of tags to a scalar summary op is no longer supported.\n",
      "WARNING:tensorflow:Casting <dtype: 'int32'> labels to bool.\n",
      "WARNING:tensorflow:Casting <dtype: 'int32'> labels to bool.\n",
      "INFO:tensorflow:Starting evaluation at 2018-05-07-09:43:31\n",
      "INFO:tensorflow:Restoring parameters from /tmp/tmprl1qlw8y/model.ckpt-118\n",
      "INFO:tensorflow:Finished evaluation at 2018-05-07-09:43:36\n",
      "INFO:tensorflow:Saving dict for global step 118: accuracy = 0.984546, accuracy/baseline_label_mean = 0.0322581, accuracy/threshold_0.500000_mean = 0.984546, auc = 0.984376, auc_precision_recall = 0.835306, global_step = 118, labels/actual_label_mean = 0.0322581, labels/prediction_mean = 0.0321048, loss = 0.0474869, precision/positive_threshold_0.500000_mean = 0.913811, recall/positive_threshold_0.500000_mean = 0.575163\n"
     ]
    },
    {
     "data": {
      "text/plain": [
       "{'loss': 0.047486871,\n",
       " 'accuracy': 0.98454565,\n",
       " 'labels/prediction_mean': 0.03210476,\n",
       " 'labels/actual_label_mean': 0.032258064,\n",
       " 'accuracy/baseline_label_mean': 0.032258064,\n",
       " 'auc': 0.98437631,\n",
       " 'auc_precision_recall': 0.83530557,\n",
       " 'accuracy/threshold_0.500000_mean': 0.98454565,\n",
       " 'precision/positive_threshold_0.500000_mean': 0.91381103,\n",
       " 'recall/positive_threshold_0.500000_mean': 0.57516342,\n",
       " 'global_step': 118}"
      ]
     },
     "execution_count": 52,
     "metadata": {},
     "output_type": "execute_result"
    }
   ],
   "source": [
    "classifier.evaluate(x=X_test, y=y_test)"
   ]
  },
  {
   "cell_type": "code",
   "execution_count": null,
   "metadata": {},
   "outputs": [],
   "source": []
  },
  {
   "cell_type": "code",
   "execution_count": null,
   "metadata": {},
   "outputs": [],
   "source": []
  }
 ],
 "metadata": {
  "kernelspec": {
   "display_name": "Python 3",
   "language": "python",
   "name": "python3"
  },
  "language_info": {
   "codemirror_mode": {
    "name": "ipython",
    "version": 3
   },
   "file_extension": ".py",
   "mimetype": "text/x-python",
   "name": "python",
   "nbconvert_exporter": "python",
   "pygments_lexer": "ipython3",
   "version": "3.6.3"
  }
 },
 "nbformat": 4,
 "nbformat_minor": 2
}
